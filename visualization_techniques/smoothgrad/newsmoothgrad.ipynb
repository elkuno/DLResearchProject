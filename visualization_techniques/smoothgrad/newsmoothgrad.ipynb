{
 "cells": [
  {
   "cell_type": "code",
   "execution_count": 1,
   "metadata": {},
   "outputs": [],
   "source": [
    "from keras.preprocessing.image import ImageDataGenerator\n",
    "from keras.models import load_model\n",
    "import numpy as np\n",
    "import PIL.Image\n",
    "from matplotlib import pylab as P\n",
    "import saliency.core as saliency"
   ]
  },
  {
   "cell_type": "code",
   "execution_count": 2,
   "metadata": {},
   "outputs": [],
   "source": [
    "train_datagen = ImageDataGenerator(rescale = 1./255,\n",
    "                                   shear_range = 0.2,\n",
    "                                   zoom_range = 0.2,\n",
    "                                   horizontal_flip = True)"
   ]
  },
  {
   "cell_type": "code",
   "execution_count": 3,
   "metadata": {},
   "outputs": [],
   "source": [
    "test_datagen = ImageDataGenerator(rescale = 1./255)"
   ]
  },
  {
   "cell_type": "code",
   "execution_count": 4,
   "metadata": {},
   "outputs": [
    {
     "name": "stdout",
     "output_type": "stream",
     "text": [
      "Found 251 images belonging to 3 classes.\n"
     ]
    }
   ],
   "source": [
    "training_set = train_datagen.flow_from_directory('../../Covid19-dataset/train',\n",
    "                                                 target_size = (224, 224),\n",
    "                                                 batch_size = 32,\n",
    "                                                 class_mode = 'categorical')"
   ]
  },
  {
   "cell_type": "code",
   "execution_count": 5,
   "metadata": {},
   "outputs": [
    {
     "name": "stdout",
     "output_type": "stream",
     "text": [
      "Found 66 images belonging to 3 classes.\n"
     ]
    }
   ],
   "source": [
    "test_set = test_datagen.flow_from_directory('../../Covid19-dataset/test',\n",
    "                                            target_size = (224, 224),\n",
    "                                            batch_size = 32,\n",
    "                                            class_mode = 'categorical')"
   ]
  },
  {
   "cell_type": "code",
   "execution_count": 6,
   "metadata": {},
   "outputs": [],
   "source": [
    "model = load_model('../../models/covid/covid_vgg1.h5')"
   ]
  },
  {
   "cell_type": "code",
   "execution_count": null,
   "metadata": {},
   "outputs": [],
   "source": [
    "test_loss, test_accuracy = model.evaluate(test_set)\n",
    "print(f\"Test Loss: {test_loss}, Test Accuracy: {test_accuracy}\")"
   ]
  },
  {
   "cell_type": "code",
   "execution_count": null,
   "metadata": {},
   "outputs": [],
   "source": [
    "print(model.summary())"
   ]
  },
  {
   "cell_type": "code",
   "execution_count": 7,
   "metadata": {},
   "outputs": [],
   "source": [
    "def call_model_function(images, call_model_args=None, expected_keys=None):\n",
    "    target_class_idx =  call_model_args[class_idx_str]\n",
    "    images = tf.convert_to_tensor(images)\n",
    "    with tf.GradientTape() as tape:\n",
    "        output_layer = model(images)\n",
    "        output_layer = output_layer[:, target_class_idx]\n",
    "        gradients = np.array(tape.gradient(output_layer, images))\n",
    "        return {saliency.base.INPUT_OUTPUT_GRADIENTS: gradients}"
   ]
  },
  {
   "cell_type": "code",
   "execution_count": 13,
   "metadata": {},
   "outputs": [],
   "source": [
    "def load_image(file_path):\n",
    "    im = PIL.Image.open(file_path)\n",
    "    im = im.resize((224, 224))\n",
    "    im = np.asarray(im, dtype=np.float32)\n",
    "    im = np.expand_dims(im, axis=0)\n",
    "    return im.copy()\n"
   ]
  },
  {
   "cell_type": "code",
   "execution_count": 15,
   "metadata": {},
   "outputs": [
    {
     "ename": "FileNotFoundError",
     "evalue": "[Errno 2] No such file or directory: './your_image.png'",
     "output_type": "error",
     "traceback": [
      "\u001b[1;31m---------------------------------------------------------------------------\u001b[0m",
      "\u001b[1;31mFileNotFoundError\u001b[0m                         Traceback (most recent call last)",
      "Cell \u001b[1;32mIn[15], line 2\u001b[0m\n\u001b[0;32m      1\u001b[0m \u001b[39m# Load and preprocess your image\u001b[39;00m\n\u001b[1;32m----> 2\u001b[0m im_orig \u001b[39m=\u001b[39m load_image(\u001b[39m'\u001b[39;49m\u001b[39m./your_image.png\u001b[39;49m\u001b[39m'\u001b[39;49m)\n\u001b[0;32m      3\u001b[0m im \u001b[39m=\u001b[39m test_datagen\u001b[39m.\u001b[39mstandardize(im_orig)\n\u001b[0;32m      5\u001b[0m \u001b[39m# Make predictions using your model\u001b[39;00m\n",
      "Cell \u001b[1;32mIn[13], line 2\u001b[0m, in \u001b[0;36mload_image\u001b[1;34m(file_path)\u001b[0m\n\u001b[0;32m      1\u001b[0m \u001b[39mdef\u001b[39;00m \u001b[39mload_image\u001b[39m(file_path):\n\u001b[1;32m----> 2\u001b[0m     im \u001b[39m=\u001b[39m PIL\u001b[39m.\u001b[39;49mImage\u001b[39m.\u001b[39;49mopen(file_path)\n\u001b[0;32m      3\u001b[0m     im \u001b[39m=\u001b[39m im\u001b[39m.\u001b[39mresize((\u001b[39m224\u001b[39m, \u001b[39m224\u001b[39m))\n\u001b[0;32m      4\u001b[0m     im \u001b[39m=\u001b[39m np\u001b[39m.\u001b[39masarray(im, dtype\u001b[39m=\u001b[39mnp\u001b[39m.\u001b[39mfloat32)\n",
      "File \u001b[1;32mc:\\Users\\joshm\\Desktop\\Deep-Learning\\research_project\\DLResearchProject\\venv\\lib\\site-packages\\PIL\\Image.py:3236\u001b[0m, in \u001b[0;36mopen\u001b[1;34m(fp, mode, formats)\u001b[0m\n\u001b[0;32m   3233\u001b[0m     filename \u001b[39m=\u001b[39m fp\n\u001b[0;32m   3235\u001b[0m \u001b[39mif\u001b[39;00m filename:\n\u001b[1;32m-> 3236\u001b[0m     fp \u001b[39m=\u001b[39m builtins\u001b[39m.\u001b[39;49mopen(filename, \u001b[39m\"\u001b[39;49m\u001b[39mrb\u001b[39;49m\u001b[39m\"\u001b[39;49m)\n\u001b[0;32m   3237\u001b[0m     exclusive_fp \u001b[39m=\u001b[39m \u001b[39mTrue\u001b[39;00m\n\u001b[0;32m   3239\u001b[0m \u001b[39mtry\u001b[39;00m:\n",
      "\u001b[1;31mFileNotFoundError\u001b[0m: [Errno 2] No such file or directory: './your_image.png'"
     ]
    }
   ],
   "source": [
    "# Load and preprocess your image\n",
    "im_orig = load_image('../../Covid19-dataset/test/Covid/0100.jpeg')\n",
    "im = test_datagen.standardize(im_orig)\n",
    "\n",
    "# Make predictions using your model\n",
    "predictions = model(im)\n",
    "prediction_class = np.argmax(predictions[0])\n",
    "class_idx_str = 'class_idx_str'\n",
    "call_model_args = {class_idx_str: prediction_class}\n",
    "\n",
    "# Construct the saliency object\n",
    "integrated_gradients = saliency.IntegratedGradients()\n",
    "\n",
    "# Baseline is a black image\n",
    "baseline = np.zeros(im.shape)\n",
    "\n",
    "# Compute the SmoothGrad Integrated Gradients mask\n",
    "smoothgrad_integrated_gradients_mask_3d = integrated_gradients.GetSmoothedMask(\n",
    "  im, call_model_function, call_model_args, x_steps=25, x_baseline=baseline, batch_size=20)\n",
    "\n",
    "# Visualize the saliency mask\n",
    "smoothgrad_mask_grayscale = saliency.VisualizeImageGrayscale(smoothgrad_integrated_gradients_mask_3d)\n",
    "\n",
    "# Render the saliency mask\n",
    "ShowGrayscaleImage(smoothgrad_mask_grayscale, title='Smoothgrad Integrated Gradients')"
   ]
  }
 ],
 "metadata": {
  "kernelspec": {
   "display_name": "Python 3",
   "language": "python",
   "name": "python3"
  },
  "language_info": {
   "codemirror_mode": {
    "name": "ipython",
    "version": 3
   },
   "file_extension": ".py",
   "mimetype": "text/x-python",
   "name": "python",
   "nbconvert_exporter": "python",
   "pygments_lexer": "ipython3",
   "version": "3.10.11"
  },
  "orig_nbformat": 4
 },
 "nbformat": 4,
 "nbformat_minor": 2
}
