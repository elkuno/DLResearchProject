{
 "cells": [
  {
   "cell_type": "code",
   "execution_count": 13,
   "metadata": {},
   "outputs": [],
   "source": [
    "import tensorflow as tf\n",
    "from keras.models import load_model\n",
    "from keras.preprocessing.image import ImageDataGenerator\n",
    "from keras.utils import load_img\n",
    "from keras.utils import img_to_array\n",
    "import os\n",
    "import cv2\n",
    "import numpy as np\n",
    "from matplotlib import pyplot as plt\n",
    "\n",
    "from tf_explain.core.smoothgrad import SmoothGrad\n",
    "from tensorflow.keras.preprocessing import image"
   ]
  },
  {
   "cell_type": "code",
   "execution_count": 14,
   "metadata": {},
   "outputs": [],
   "source": [
    "model = load_model('../../models/covid/covid_vgg1.h5')"
   ]
  },
  {
   "cell_type": "code",
   "execution_count": 15,
   "metadata": {},
   "outputs": [],
   "source": [
    "def preprocess_image(img_path, target_size=(224, 224)):\n",
    "    \"\"\"Preprocess the image by reshape and normalization.\n",
    "    Args:\n",
    "        img_path: A string.\n",
    "        target_size: A tuple, reshape to this size.\n",
    "    Return:\n",
    "        An image array.\n",
    "    \"\"\"\n",
    "    img = image.load_img(img_path, target_size=target_size)\n",
    "    img = image.img_to_array(img)\n",
    "    img /= 255\n",
    "\n",
    "    return img\n",
    "\n",
    "def visualize_smoothgrad(model, img_path, output_path, output_name):\n",
    "    print(img_path)\n",
    "    img = preprocess_image(img_path)\n",
    "\n",
    "    # Instantiation of the explainer\n",
    "    explainer = SmoothGrad()\n",
    "    output = explainer.explain((img, None), model, 2, num_samples=5, noise=1)\n",
    "\n",
    "    print(output)"
   ]
  },
  {
   "cell_type": "code",
   "execution_count": 16,
   "metadata": {},
   "outputs": [],
   "source": [
    "# input/output directory\n",
    "input_directory = '../../Covid19-dataset/test'\n",
    "output_directory = '../../Output_Images/smoothgrad/'\n",
    "images_to_process = 5"
   ]
  },
  {
   "cell_type": "code",
   "execution_count": 17,
   "metadata": {},
   "outputs": [
    {
     "name": "stdout",
     "output_type": "stream",
     "text": [
      "../../Covid19-dataset/test/Covid/0100.jpeg\n"
     ]
    },
    {
     "ename": "ValueError",
     "evalue": "in user code:\n\n    File \"c:\\Users\\joshm\\Desktop\\Deep-Learning\\research_project\\DLResearchProject\\venv\\lib\\site-packages\\tf_explain\\core\\smoothgrad.py\", line 98, in get_averaged_gradients  *\n        predictions = model(inputs)\n    File \"c:\\Users\\joshm\\Desktop\\Deep-Learning\\research_project\\DLResearchProject\\venv\\lib\\site-packages\\keras\\utils\\traceback_utils.py\", line 70, in error_handler  **\n        raise e.with_traceback(filtered_tb) from None\n    File \"c:\\Users\\joshm\\Desktop\\Deep-Learning\\research_project\\DLResearchProject\\venv\\lib\\site-packages\\keras\\engine\\input_spec.py\", line 295, in assert_input_compatibility\n        raise ValueError(\n\n    ValueError: Input 0 of layer \"model\" is incompatible with the layer: expected shape=(None, 224, 224, 3), found shape=(1120, 224, 3)\n",
     "output_type": "error",
     "traceback": [
      "\u001b[1;31m---------------------------------------------------------------------------\u001b[0m",
      "\u001b[1;31mValueError\u001b[0m                                Traceback (most recent call last)",
      "Cell \u001b[1;32mIn[17], line 1\u001b[0m\n\u001b[1;32m----> 1\u001b[0m visualize_smoothgrad(model, \u001b[39m'\u001b[39;49m\u001b[39m../../Covid19-dataset/test/Covid/0100.jpeg\u001b[39;49m\u001b[39m'\u001b[39;49m, output_directory, \u001b[39m'\u001b[39;49m\u001b[39msmoothgrad.jpg\u001b[39;49m\u001b[39m'\u001b[39;49m)\n",
      "Cell \u001b[1;32mIn[15], line 21\u001b[0m, in \u001b[0;36mvisualize_smoothgrad\u001b[1;34m(model, img_path, output_path, output_name)\u001b[0m\n\u001b[0;32m     19\u001b[0m \u001b[39m# Instantiation of the explainer\u001b[39;00m\n\u001b[0;32m     20\u001b[0m explainer \u001b[39m=\u001b[39m SmoothGrad()\n\u001b[1;32m---> 21\u001b[0m output \u001b[39m=\u001b[39m explainer\u001b[39m.\u001b[39;49mexplain((img, \u001b[39mNone\u001b[39;49;00m), model, \u001b[39m2\u001b[39;49m, num_samples\u001b[39m=\u001b[39;49m\u001b[39m5\u001b[39;49m, noise\u001b[39m=\u001b[39;49m\u001b[39m1\u001b[39;49m)\n\u001b[0;32m     23\u001b[0m \u001b[39mprint\u001b[39m(output)\n",
      "File \u001b[1;32mc:\\Users\\joshm\\Desktop\\Deep-Learning\\research_project\\DLResearchProject\\venv\\lib\\site-packages\\tf_explain\\core\\smoothgrad.py:40\u001b[0m, in \u001b[0;36mSmoothGrad.explain\u001b[1;34m(self, validation_data, model, class_index, num_samples, noise)\u001b[0m\n\u001b[0;32m     36\u001b[0m images, _ \u001b[39m=\u001b[39m validation_data\n\u001b[0;32m     38\u001b[0m noisy_images \u001b[39m=\u001b[39m SmoothGrad\u001b[39m.\u001b[39mgenerate_noisy_images(images, num_samples, noise)\n\u001b[1;32m---> 40\u001b[0m smoothed_gradients \u001b[39m=\u001b[39m SmoothGrad\u001b[39m.\u001b[39;49mget_averaged_gradients(\n\u001b[0;32m     41\u001b[0m     noisy_images, model, class_index, num_samples\n\u001b[0;32m     42\u001b[0m )\n\u001b[0;32m     44\u001b[0m grayscale_gradients \u001b[39m=\u001b[39m transform_to_normalized_grayscale(\n\u001b[0;32m     45\u001b[0m     tf\u001b[39m.\u001b[39mabs(smoothed_gradients)\n\u001b[0;32m     46\u001b[0m )\u001b[39m.\u001b[39mnumpy()\n\u001b[0;32m     48\u001b[0m grid \u001b[39m=\u001b[39m grid_display(grayscale_gradients)\n",
      "File \u001b[1;32mc:\\Users\\joshm\\Desktop\\Deep-Learning\\research_project\\DLResearchProject\\venv\\lib\\site-packages\\tensorflow\\python\\util\\traceback_utils.py:153\u001b[0m, in \u001b[0;36mfilter_traceback.<locals>.error_handler\u001b[1;34m(*args, **kwargs)\u001b[0m\n\u001b[0;32m    151\u001b[0m \u001b[39mexcept\u001b[39;00m \u001b[39mException\u001b[39;00m \u001b[39mas\u001b[39;00m e:\n\u001b[0;32m    152\u001b[0m   filtered_tb \u001b[39m=\u001b[39m _process_traceback_frames(e\u001b[39m.\u001b[39m__traceback__)\n\u001b[1;32m--> 153\u001b[0m   \u001b[39mraise\u001b[39;00m e\u001b[39m.\u001b[39mwith_traceback(filtered_tb) \u001b[39mfrom\u001b[39;00m \u001b[39mNone\u001b[39;00m\n\u001b[0;32m    154\u001b[0m \u001b[39mfinally\u001b[39;00m:\n\u001b[0;32m    155\u001b[0m   \u001b[39mdel\u001b[39;00m filtered_tb\n",
      "File \u001b[1;32m~\\AppData\\Local\\Temp\\__autograph_generated_file6y7mdht1.py:28\u001b[0m, in \u001b[0;36mouter_factory.<locals>.inner_factory.<locals>.tf__get_averaged_gradients\u001b[1;34m(noisy_images, model, class_index, num_samples)\u001b[0m\n\u001b[0;32m     26\u001b[0m     inputs \u001b[39m=\u001b[39m ag__\u001b[39m.\u001b[39mconverted_call(ag__\u001b[39m.\u001b[39mld(tf)\u001b[39m.\u001b[39mcast, (ag__\u001b[39m.\u001b[39mld(noisy_images), ag__\u001b[39m.\u001b[39mld(tf)\u001b[39m.\u001b[39mfloat32), \u001b[39mNone\u001b[39;00m, fscope)\n\u001b[0;32m     27\u001b[0m     ag__\u001b[39m.\u001b[39mconverted_call(ag__\u001b[39m.\u001b[39mld(tape)\u001b[39m.\u001b[39mwatch, (ag__\u001b[39m.\u001b[39mld(inputs),), \u001b[39mNone\u001b[39;00m, fscope)\n\u001b[1;32m---> 28\u001b[0m     predictions \u001b[39m=\u001b[39m ag__\u001b[39m.\u001b[39;49mconverted_call(ag__\u001b[39m.\u001b[39;49mld(model), (ag__\u001b[39m.\u001b[39;49mld(inputs),), \u001b[39mNone\u001b[39;49;00m, fscope)\n\u001b[0;32m     29\u001b[0m     loss \u001b[39m=\u001b[39m ag__\u001b[39m.\u001b[39mconverted_call(ag__\u001b[39m.\u001b[39mld(tf)\u001b[39m.\u001b[39mkeras\u001b[39m.\u001b[39mlosses\u001b[39m.\u001b[39mcategorical_crossentropy, (ag__\u001b[39m.\u001b[39mld(expected_output), ag__\u001b[39m.\u001b[39mld(predictions)), \u001b[39mNone\u001b[39;00m, fscope)\n\u001b[0;32m     30\u001b[0m grads \u001b[39m=\u001b[39m ag__\u001b[39m.\u001b[39mconverted_call(ag__\u001b[39m.\u001b[39mld(tape)\u001b[39m.\u001b[39mgradient, (ag__\u001b[39m.\u001b[39mld(loss), ag__\u001b[39m.\u001b[39mld(inputs)), \u001b[39mNone\u001b[39;00m, fscope)\n",
      "File \u001b[1;32mc:\\Users\\joshm\\Desktop\\Deep-Learning\\research_project\\DLResearchProject\\venv\\lib\\site-packages\\keras\\utils\\traceback_utils.py:70\u001b[0m, in \u001b[0;36mfilter_traceback.<locals>.error_handler\u001b[1;34m(*args, **kwargs)\u001b[0m\n\u001b[0;32m     67\u001b[0m     filtered_tb \u001b[39m=\u001b[39m _process_traceback_frames(e\u001b[39m.\u001b[39m__traceback__)\n\u001b[0;32m     68\u001b[0m     \u001b[39m# To get the full stack trace, call:\u001b[39;00m\n\u001b[0;32m     69\u001b[0m     \u001b[39m# `tf.debugging.disable_traceback_filtering()`\u001b[39;00m\n\u001b[1;32m---> 70\u001b[0m     \u001b[39mraise\u001b[39;00m e\u001b[39m.\u001b[39mwith_traceback(filtered_tb) \u001b[39mfrom\u001b[39;00m \u001b[39mNone\u001b[39;00m\n\u001b[0;32m     71\u001b[0m \u001b[39mfinally\u001b[39;00m:\n\u001b[0;32m     72\u001b[0m     \u001b[39mdel\u001b[39;00m filtered_tb\n",
      "File \u001b[1;32mc:\\Users\\joshm\\Desktop\\Deep-Learning\\research_project\\DLResearchProject\\venv\\lib\\site-packages\\keras\\engine\\input_spec.py:295\u001b[0m, in \u001b[0;36massert_input_compatibility\u001b[1;34m(input_spec, inputs, layer_name)\u001b[0m\n\u001b[0;32m    293\u001b[0m \u001b[39mif\u001b[39;00m spec_dim \u001b[39mis\u001b[39;00m \u001b[39mnot\u001b[39;00m \u001b[39mNone\u001b[39;00m \u001b[39mand\u001b[39;00m dim \u001b[39mis\u001b[39;00m \u001b[39mnot\u001b[39;00m \u001b[39mNone\u001b[39;00m:\n\u001b[0;32m    294\u001b[0m     \u001b[39mif\u001b[39;00m spec_dim \u001b[39m!=\u001b[39m dim:\n\u001b[1;32m--> 295\u001b[0m         \u001b[39mraise\u001b[39;00m \u001b[39mValueError\u001b[39;00m(\n\u001b[0;32m    296\u001b[0m             \u001b[39mf\u001b[39m\u001b[39m'\u001b[39m\u001b[39mInput \u001b[39m\u001b[39m{\u001b[39;00minput_index\u001b[39m}\u001b[39;00m\u001b[39m of layer \u001b[39m\u001b[39m\"\u001b[39m\u001b[39m{\u001b[39;00mlayer_name\u001b[39m}\u001b[39;00m\u001b[39m\"\u001b[39m\u001b[39m is \u001b[39m\u001b[39m'\u001b[39m\n\u001b[0;32m    297\u001b[0m             \u001b[39m\"\u001b[39m\u001b[39mincompatible with the layer: \u001b[39m\u001b[39m\"\u001b[39m\n\u001b[0;32m    298\u001b[0m             \u001b[39mf\u001b[39m\u001b[39m\"\u001b[39m\u001b[39mexpected shape=\u001b[39m\u001b[39m{\u001b[39;00mspec\u001b[39m.\u001b[39mshape\u001b[39m}\u001b[39;00m\u001b[39m, \u001b[39m\u001b[39m\"\u001b[39m\n\u001b[0;32m    299\u001b[0m             \u001b[39mf\u001b[39m\u001b[39m\"\u001b[39m\u001b[39mfound shape=\u001b[39m\u001b[39m{\u001b[39;00mdisplay_shape(x\u001b[39m.\u001b[39mshape)\u001b[39m}\u001b[39;00m\u001b[39m\"\u001b[39m\n\u001b[0;32m    300\u001b[0m         )\n",
      "\u001b[1;31mValueError\u001b[0m: in user code:\n\n    File \"c:\\Users\\joshm\\Desktop\\Deep-Learning\\research_project\\DLResearchProject\\venv\\lib\\site-packages\\tf_explain\\core\\smoothgrad.py\", line 98, in get_averaged_gradients  *\n        predictions = model(inputs)\n    File \"c:\\Users\\joshm\\Desktop\\Deep-Learning\\research_project\\DLResearchProject\\venv\\lib\\site-packages\\keras\\utils\\traceback_utils.py\", line 70, in error_handler  **\n        raise e.with_traceback(filtered_tb) from None\n    File \"c:\\Users\\joshm\\Desktop\\Deep-Learning\\research_project\\DLResearchProject\\venv\\lib\\site-packages\\keras\\engine\\input_spec.py\", line 295, in assert_input_compatibility\n        raise ValueError(\n\n    ValueError: Input 0 of layer \"model\" is incompatible with the layer: expected shape=(None, 224, 224, 3), found shape=(1120, 224, 3)\n"
     ]
    }
   ],
   "source": [
    "visualize_smoothgrad(model, '../../Covid19-dataset/test/Covid/0100.jpeg', output_directory, 'smoothgrad.jpg')"
   ]
  }
 ],
 "metadata": {
  "kernelspec": {
   "display_name": "Python 3",
   "language": "python",
   "name": "python3"
  },
  "language_info": {
   "codemirror_mode": {
    "name": "ipython",
    "version": 3
   },
   "file_extension": ".py",
   "mimetype": "text/x-python",
   "name": "python",
   "nbconvert_exporter": "python",
   "pygments_lexer": "ipython3",
   "version": "3.10.11"
  },
  "orig_nbformat": 4
 },
 "nbformat": 4,
 "nbformat_minor": 2
}
